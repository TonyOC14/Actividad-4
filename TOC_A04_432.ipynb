{
  "nbformat": 4,
  "nbformat_minor": 0,
  "metadata": {
    "colab": {
      "provenance": [],
      "authorship_tag": "ABX9TyOcQoYr8/JzsjaAynokumAg",
      "include_colab_link": true
    },
    "kernelspec": {
      "name": "python3",
      "display_name": "Python 3"
    },
    "language_info": {
      "name": "python"
    }
  },
  "cells": [
    {
      "cell_type": "markdown",
      "metadata": {
        "id": "view-in-github",
        "colab_type": "text"
      },
      "source": [
        "<a href=\"https://colab.research.google.com/github/TonyOC14/Actividad-4/blob/main/TOC_A04_432.ipynb\" target=\"_parent\"><img src=\"https://colab.research.google.com/assets/colab-badge.svg\" alt=\"Open In Colab\"/></a>"
      ]
    },
    {
      "cell_type": "markdown",
      "source": [
        "1.- Programa en python   que lea 3 calificaciones calcule el promedio del alumno y desplegar:\n",
        "\n",
        "Si prom < 30 Repetir\n",
        "\n",
        "Si prom >=30 y prom <60 extraordinario\n",
        "\n",
        "Si prom >=60 y prom <70 suficiente\n",
        "\n",
        "Si prom >=70 y prom <80 Regular\n",
        "\n",
        "Si prom >=80 y prom <90 bien\n",
        "\n",
        "Si prom >=90 y prom <98 muy bien\n",
        "\n",
        "Si prom >=98 y prom <=100 excelente\n",
        "\n",
        "Si prom >100 Error en promedio\n",
        "\n",
        "Realizar el algoritmo optimizado\n"
      ],
      "metadata": {
        "id": "azr7y8fYk9na"
      }
    },
    {
      "cell_type": "code",
      "source": [
        "try:\n",
        "    cal1 = float(input(\"Ingrese la calificacion 1: \"))\n",
        "    if cal1 < 0 or cal1 > 100:\n",
        "        raise ValueError(\"La calificacion no puede ser menor a 0 ni mayor que 100\")\n",
        "    cal2 = float(input(\"Ingrese la calificacion 2: \"))\n",
        "    if cal2 < 0 or cal2 > 100:\n",
        "        raise ValueError(\"La calificacion no puede ser menor a 0 ni mayor que 100\")\n",
        "    cal3 = float(input(\"Ingrese la calificacion 3: \"))\n",
        "    if cal3 < 0 or cal3 > 100:\n",
        "        raise ValueError(\"La calificacion no puede ser menor a 0 ni mayor que 100\")\n",
        "\n",
        "    prom = (cal1 + cal2 + cal3)/3\n",
        "except TypeError:\n",
        "    print(\"Ingresa unicamente numeros\")\n",
        "except:\n",
        "    print(\"Erros\")\n",
        "else:\n",
        "    if prom < 30:\n",
        "        print(f\"Tu promedio es de: {prom},debes repetir\")\n",
        "    elif prom < 60:\n",
        "        print(f\"Tu promedio es de: {prom},tienes derecho a extraordinario\")\n",
        "    elif prom< 70:\n",
        "        print(f\"Tu promedio es de: {prom},suficiente para pasar \")\n",
        "    elif prom < 80:\n",
        "        print(f\"Tu promedio es de: {prom},califiacion regular\")\n",
        "    elif prom < 90:\n",
        "        print(f\"Tu promedio es de: {prom},buena calificacion\")\n",
        "    elif prom < 98:\n",
        "        print(f\"Tu promedio es de: {prom},muy buena calificacion \")\n",
        "    elif prome <= 100:\n",
        "        print(f\"Tu promedio es de: {prom},excelente!\")\n",
        "    else:\n",
        "        print(f\"Error\")\n",
        "\n",
        ""
      ],
      "metadata": {
        "id": "ODQ9WGASlDth",
        "colab": {
          "base_uri": "https://localhost:8080/"
        },
        "outputId": "14391edc-42aa-4c0e-d9d1-3fc7ee355d48"
      },
      "execution_count": 2,
      "outputs": [
        {
          "output_type": "stream",
          "name": "stdout",
          "text": [
            "Ingrese la calificacion 1: 80\n",
            "Ingrese la calificacion 2: 97\n",
            "Ingrese la calificacion 3: 65\n",
            "Tu promedio es de: 80.66666666666667,buena calificacion\n"
          ]
        }
      ]
    },
    {
      "cell_type": "markdown",
      "source": [
        "2.- Programa en Python que sirva para calcular el salario semanal de un trabajador donde se obtiene como dato de entrada las horas semanales trabajadas, el salario por hora.\n",
        "\n",
        "El programa deberá calcular el salario normal, salario extra y salario total, considerando lo siguiente:\n",
        "\n",
        "    Jornada Normal de 40 horas.\n",
        "    El salario normal se considera las horas trabajadas menores o igual a la jornada normal\n",
        "    Salario extra se considera las horas trabajadas mayores a la jornada normal y se pagan dobles las primeras 9 y triples a partir de la décima hora extra\n",
        "\n",
        "\n",
        "Nota: Desplegar todos los datos (Salario x hora, Horas Trabajadas, Salario normal, Salario extra y Salario Total)"
      ],
      "metadata": {
        "id": "Lj6WLbJOoml0"
      }
    },
    {
      "cell_type": "code",
      "source": [
        "try:\n",
        "    horas_trabajadas = float(input(\"Ingrese las horas trabajadas en la semana: \"))\n",
        "    if horas_trabajadas == 0:\n",
        "        raise ValueError(\"Bien flojo\")\n",
        "    salario_por_hora = float(input(\"Ingrese el salario por hora: \"))\n",
        "    if salario_por_hora == 0:\n",
        "        raise ValueError(\"Uyy, yo tambien quiero que trabajen gratis por mi\")\n",
        "except:\n",
        "    print(\"Solo ingrese numeros\")\n",
        "else:\n",
        "    jornada_normal = 40\n",
        "    tarifa_normal = salario_por_hora\n",
        "    tarifa_extra_doble = salario_por_hora * 2\n",
        "    tarifa_extra_triple = salario_por_hora * 3\n",
        "\n",
        "    if horas_trabajadas <= jornada_normal:\n",
        "        salario_normal = horas_trabajadas * tarifa_normal\n",
        "        horas_extra = 0\n",
        "        print(\"Salario Normal: $\", salario_normal)\n",
        "    else:\n",
        "        horas_normales = jornada_normal\n",
        "        horas_extra = horas_trabajadas - jornada_normal\n",
        "        if horas_extra <= 9:\n",
        "            salario_normal = horas_normales * tarifa_normal\n",
        "            salario_extra = horas_extra * tarifa_extra_doble\n",
        "            salario_total = salario_normal + salario_extra\n",
        "            print(\"Salario Normal: $\", salario_normal)\n",
        "            print(\"Salario Extra: $\", salario_extra)\n",
        "            print(\"Salario Total: $\", salario_total)\n",
        "        else:\n",
        "            salario_normal = horas_normales * tarifa_normal\n",
        "            salario_extra = 9 * tarifa_extra_doble + (horas_extra - 9) * tarifa_extra_triple\n",
        "            salario_total = salario_normal + salario_extra\n",
        "            print(\"Salario Normal: $\", salario_normal)\n",
        "            print(\"Salario Extra: $\", salario_extra)\n",
        "            print(\"Salario Total: $\", salario_total)"
      ],
      "metadata": {
        "colab": {
          "base_uri": "https://localhost:8080/"
        },
        "id": "nrcBCLUYor77",
        "outputId": "0f6d60db-7073-44fd-8128-04d6fb3f0efa"
      },
      "execution_count": 7,
      "outputs": [
        {
          "output_type": "stream",
          "name": "stdout",
          "text": [
            "Ingrese las horas trabajadas en la semana: 50\n",
            "Ingrese el salario por hora: 10\n",
            "Salario Normal: $ 400.0\n",
            "Salario Extra: $ 210.0\n",
            "Salario Total: $ 610.0\n"
          ]
        }
      ]
    },
    {
      "cell_type": "markdown",
      "source": [
        "3.- Programa en Python que sirva para calcular el Total a pagar por consumo de agua, donde el dato de entrada son los M3 de agua consumidos, Tomar en cuenta que se cobra escalonada de la Siguiente manera:\n",
        "\n",
        "Rango1: 0 al 4 M3 $50 x facturación sin importar cuánto consumió en este rango\n",
        "\n",
        "Rango2: 5 a 15 M3 $8.00 x M3\n",
        "\n",
        "Rango3: 16 a 50 M3 $10.00 x M3\n",
        "\n",
        "Rango4: 51 M3 en adelante $11.00 x M3\n",
        "\n",
        "Nota: Desplegar SubTotal, Iva(16%), y Total a pagar."
      ],
      "metadata": {
        "id": "O838OWgdqHl2"
      }
    },
    {
      "cell_type": "code",
      "source": [
        "try:\n",
        "    m3 = float(input(\"Cuantos metros cubicos de agua consumiste?  \"))\n",
        "    if m3 == 0:\n",
        "        raise ValueError(\"No se puede consumir 0 o menos metros cubicos de agua\")\n",
        "except TypeError:\n",
        "    print(\"Unicamente ingrese numeros enteros\")\n",
        "\n",
        "else:\n",
        "    costo = 0\n",
        "    if m3 <= 4:\n",
        "        costo = 50\n",
        "    elif m3 <= 15:\n",
        "        costo = m3 * 8\n",
        "    elif m3 <= 50:\n",
        "        costo = m3 * 10\n",
        "    elif m3 >= 51:\n",
        "        costo = m3 * 11\n",
        "    subtotal = costo*100/116\n",
        "    iva = 16*subtotal/100\n",
        "    total = subtotal + iva\n",
        "    print(f\"El subtotal es de: {subtotal}\")\n",
        "    print(f\"El iva agregado es de: {iva}\")\n",
        "    print(f\"El total a pagar es de: {total}\")"
      ],
      "metadata": {
        "colab": {
          "base_uri": "https://localhost:8080/"
        },
        "id": "4c0ut_cHqKGX",
        "outputId": "d861101e-a242-49ed-c8d3-5ef6bc50dc2d"
      },
      "execution_count": 11,
      "outputs": [
        {
          "output_type": "stream",
          "name": "stdout",
          "text": [
            "Cuantos metros cubicos de agua consumiste?  51\n",
            "El subtotal es de: 483.62068965517244\n",
            "El iva agregado es de: 77.37931034482759\n",
            "El total a pagar es de: 561.0\n"
          ]
        }
      ]
    },
    {
      "cell_type": "markdown",
      "source": [
        "4- En la materia de Metodología de la programación se aplican 5 exámenes, calcular el promedio final de la materia donde la calificación menor de los exámenes se anula y el promedio se calcula en base a 4 exámenes.\n",
        "\n",
        "Desplegar el promedio final. y cual es la mas baja que se elimino."
      ],
      "metadata": {
        "id": "jE2UJPkjrvFZ"
      }
    },
    {
      "cell_type": "code",
      "source": [
        "try:\n",
        "    calif1=float(input(\"Ingrese la calificacion del examen 1: \"))\n",
        "    if calif1 < 0 or calif1 > 100:\n",
        "        raise ValueError(\"La calificacion debe ser mayor a 0 y menor que 100\")\n",
        "\n",
        "    calif2=float(input(\"Ingrese la calificacion del examen 2: \"))\n",
        "    if calif2 < 0 or calif2 > 100:\n",
        "        raise ValueError(\"La calificacion debe ser mayor a 0 y menor que 100\")\n",
        "\n",
        "    calif3=float(input(\"Ingrese la calificacion del examen 3: \"))\n",
        "    if calif3 < 0 or calif3 > 100:\n",
        "        raise ValueError(\"La calificacion debe ser mayor a 0 y menor que 100\")\n",
        "\n",
        "    calif4=float(input(\"Ingrese la calificacion del examen 4: \"))\n",
        "    if calif4 < 0 or calif4 > 100:\n",
        "        raise ValueError(\"La calificacion debe ser mayor a 0 y menor que 100\")\n",
        "\n",
        "    calif5=float(input(\"Ingrese la calificacion del examen 5: \"))\n",
        "    if calif5 < 0 or calif5 > 100:\n",
        "        raise ValueError(\"La calificacion debe ser mayor a 0 y menor que 100\")\n",
        "\n",
        "except TypeError:\n",
        "    print(\"Solo debe ingresar numeros\")\n",
        "else:\n",
        "    menor = calif1\n",
        "    if menor > calif2:\n",
        "        menor = calif2\n",
        "    if menor > calif3:\n",
        "        menor = calif3\n",
        "    if menor > calif4:\n",
        "        menor = calif4\n",
        "    if menor > calif5:\n",
        "        menor = calif5\n",
        "    promedio = (calif1 + calif2 + calif3 + calif4 + calif5 - menor)/4\n",
        "    print(f\"El promedio final es de: {promedio}\")\n",
        "    print(f\"La califiacion del examen mas baja que se elimino es: {menor}\")"
      ],
      "metadata": {
        "colab": {
          "base_uri": "https://localhost:8080/"
        },
        "id": "Zzg6rOQVrxFI",
        "outputId": "390cdc8a-b8a2-4032-da0f-4365cda8d427"
      },
      "execution_count": 12,
      "outputs": [
        {
          "output_type": "stream",
          "name": "stdout",
          "text": [
            "Ingrese la calificacion del examen 1: 80\n",
            "Ingrese la calificacion del examen 2: 98\n",
            "Ingrese la calificacion del examen 3: 100\n",
            "Ingrese la calificacion del examen 4: 76\n",
            "Ingrese la calificacion del examen 5: 78\n",
            "El promedio final es de: 89.0\n",
            "La califiacion del examen mas baja que se elimino es: 76.0\n"
          ]
        }
      ]
    },
    {
      "cell_type": "markdown",
      "source": [
        "5.- Programa en Python que sirva para el juego del CHINCHAMPU (Piedra, Papel, Tijera) para 1 jugador y la computadora"
      ],
      "metadata": {
        "id": "D7RmlhmpspDB"
      }
    },
    {
      "cell_type": "code",
      "source": [
        "try:\n",
        "    pl1=int(input(\"Seleccione: \\n1-Piedra \\n2-Papel \\n3-Tijera \"))\n",
        "    if pl1 < 1 or pl1 > 3:\n",
        "        raise ValueError(\"Ingrese una de las opciones dadas\")\n",
        "except:\n",
        "    print(\"Algo anda mal..\")\n",
        "\n",
        "else:\n",
        "    import random\n",
        "    cpu=random.randint(1,3)\n",
        "    print (f\"La computadora jugo {cpu}\")\n",
        "    if pl1 == 1 :\n",
        "        if cpu == 1 :\n",
        "            print (\"Empate\")\n",
        "        elif cpu == 2 :\n",
        "            print (\"Gana la computadora\")\n",
        "        else :\n",
        "            print (\"Ganaste\")\n",
        "    elif pl1 == 2 :\n",
        "        if cpu == 1 :\n",
        "            print (\"Ganaste\")\n",
        "        elif cpu == 2 :\n",
        "            print (\"Empate\")\n",
        "        else :\n",
        "            print (\"Gana la computadora\")\n",
        "    elif pl1 == 3 :\n",
        "        if cpu == 1 :\n",
        "            print (\"Gana la computadora\")\n",
        "        elif cpu == 2 :\n",
        "            print (\"Ganaste\")\n",
        "        else :\n",
        "            print (\"Empate\")\n",
        "    else :\n",
        "        print (\"Error \")"
      ],
      "metadata": {
        "colab": {
          "base_uri": "https://localhost:8080/"
        },
        "id": "E7oQ-Wwzsrho",
        "outputId": "45413881-6df6-4b39-cbcd-3a35cf7453d9"
      },
      "execution_count": 13,
      "outputs": [
        {
          "output_type": "stream",
          "name": "stdout",
          "text": [
            "Seleccione: \n",
            "1-Piedra \n",
            "2-Papel \n",
            "3-Tijera 2\n",
            "La computadora jugo 1\n",
            "Ganaste\n"
          ]
        }
      ]
    },
    {
      "cell_type": "markdown",
      "source": [
        "6.- Programa en Python que lea 4 números enteros desplegar cuales el menor, cual es mayor"
      ],
      "metadata": {
        "id": "dXHTX4IltVdz"
      }
    },
    {
      "cell_type": "code",
      "source": [
        "try:\n",
        "    num1 = int(input(\"Ingrese el primer numero: \"))\n",
        "    num2 = int(input(\"Ingrese el segundo  numero: \"))\n",
        "    num3 = int(input(\"Ingrese el tercere numero: \"))\n",
        "    num4 = int(input(\"Ingrese el cuarto numero: \"))\n",
        "except ValueError:\n",
        "    print(\"Solo se aceptan numeros\")\n",
        "else:\n",
        "    menor = num1\n",
        "    if menor > num2:\n",
        "        menor = num2\n",
        "    if menor > num3:\n",
        "        menor = num3\n",
        "    if menor > num4:\n",
        "        menor = num4\n",
        "    print(f\"El numero menor es: {menor}\")\n",
        "\n",
        "    mayor = num4\n",
        "    if mayor < num1:\n",
        "        mayor = num1\n",
        "    if mayor < num2:\n",
        "        mayor = num2\n",
        "    if mayor < num3:\n",
        "        mayor = num3\n",
        "    print(f\"El numero mayor es: {mayor}\")\n"
      ],
      "metadata": {
        "colab": {
          "base_uri": "https://localhost:8080/"
        },
        "id": "faHC1FENtXFo",
        "outputId": "85dba6e9-995b-4851-980a-a923cadb7034"
      },
      "execution_count": 15,
      "outputs": [
        {
          "output_type": "stream",
          "name": "stdout",
          "text": [
            "Ingrese el primer numero: 1\n",
            "Ingrese el segundo  numero: 2\n",
            "Ingrese el tercere numero: 3\n",
            "Ingrese el cuarto numero: 4\n",
            "El numero menor es: 1\n",
            "El numero mayor es: 4\n"
          ]
        }
      ]
    },
    {
      "cell_type": "markdown",
      "source": [
        "7.- Programa en Python que sirva para calcular el área de un triangulo, los datos de entrada deben ser forzosamente de tipo real"
      ],
      "metadata": {
        "id": "VsPrOe3VtvW6"
      }
    },
    {
      "cell_type": "code",
      "source": [
        "try:\n",
        "    base = float(input(\"ingrese la base: \"))\n",
        "    if base <= 0:\n",
        "        raise ValueError(\"Como que algo no cuadra\")\n",
        "    altura = float(input(\"ingrese la altura: \"))\n",
        "    if altura <= 0:\n",
        "        raise ValueError(\"Como que algo no cuadra\")\n",
        "except ValueError:\n",
        "    print(\"SOLO NUMEROS\")\n",
        "except:\n",
        "    print(\"Ingrese numeros reales, ejemplo (2.1)\")\n",
        "else:\n",
        "    area = (base * altura)/2\n",
        "    print(f\"El area del triangulo es de: {area}\")"
      ],
      "metadata": {
        "colab": {
          "base_uri": "https://localhost:8080/"
        },
        "id": "ZJDObUlEtxNe",
        "outputId": "f70efc6a-e721-4e58-92bf-7ada3abfddf9"
      },
      "execution_count": 17,
      "outputs": [
        {
          "output_type": "stream",
          "name": "stdout",
          "text": [
            "ingrese la base: 1.5\n",
            "ingrese la altura: 2.8\n",
            "El area del triangulo es de: 2.0999999999999996\n"
          ]
        }
      ]
    },
    {
      "cell_type": "markdown",
      "source": [
        "8.- Programa en Python que sirva para calcular el área de un circulo"
      ],
      "metadata": {
        "id": "du8FH_jfuR8y"
      }
    },
    {
      "cell_type": "code",
      "source": [
        "import math\n",
        "\n",
        "try:\n",
        "    radio = float(input(\"Ingrese el radio del circulo \"))\n",
        "    if radio <= 0:\n",
        "        raise ValueError(\"MMM, que extraño circulo\")\n",
        "except:\n",
        "    print(\"Error\")\n",
        "else:\n",
        "    area = (math.pi * (radio**2))\n",
        "    print(f\"El area del circulo es de: {area}\")"
      ],
      "metadata": {
        "colab": {
          "base_uri": "https://localhost:8080/"
        },
        "id": "Lp3rpY0uuUGA",
        "outputId": "c935f6a4-259c-4c93-b38d-fc0cd862bdd0"
      },
      "execution_count": 19,
      "outputs": [
        {
          "output_type": "stream",
          "name": "stdout",
          "text": [
            "Ingrese el radio del circulo 3.5\n",
            "El area del circulo es de: 38.48451000647496\n"
          ]
        }
      ]
    }
  ]
}